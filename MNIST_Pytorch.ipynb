{
 "cells": [
  {
   "cell_type": "markdown",
   "id": "580faddf-5ff6-42b2-b325-c4ec6b7b5c1d",
   "metadata": {},
   "source": [
    "# PreRequisites\n",
    "\n",
    "- Installing Libraries\n",
    "    - torch\n",
    "    - torchvision\n",
    "    - numpy\n",
    "    - matplotlib\n",
    "    - pandas\n",
    " \n",
    "Run this in the terminal\n",
    "> pip3 install torch torchvision numpy matplotlib pandas\n"
   ]
  },
  {
   "cell_type": "markdown",
   "id": "48a34f1e-3b4a-487f-9556-1cd1227becf6",
   "metadata": {},
   "source": [
    "# 1. Import libraries"
   ]
  },
  {
   "cell_type": "code",
   "execution_count": 3,
   "id": "d0023566-607c-4ab1-b2e6-bc408a483a11",
   "metadata": {},
   "outputs": [
    {
     "name": "stderr",
     "output_type": "stream",
     "text": [
      "Matplotlib is building the font cache; this may take a moment.\n"
     ]
    }
   ],
   "source": [
    "# import libraries\n",
    "import torch\n",
    "import torchvision\n",
    "import numpy as np\n",
    "import matplotlib.pyplot as plt\n"
   ]
  },
  {
   "cell_type": "markdown",
   "id": "70b40b17-ada7-4302-a3ad-28f64274ecf7",
   "metadata": {},
   "source": [
    "# 2. Loading and preprocessing the data from the pytorch dataset"
   ]
  },
  {
   "cell_type": "code",
   "execution_count": 4,
   "id": "068858bf-59ab-4cf7-91d0-765d42065bbc",
   "metadata": {},
   "outputs": [
    {
     "name": "stderr",
     "output_type": "stream",
     "text": [
      "13.2%"
     ]
    },
    {
     "name": "stdout",
     "output_type": "stream",
     "text": [
      "Downloading http://yann.lecun.com/exdb/mnist/train-images-idx3-ubyte.gz\n",
      "Downloading http://yann.lecun.com/exdb/mnist/train-images-idx3-ubyte.gz to /home/adamnguyen/.pytorch/MNIST_data/MNIST/raw/train-images-idx3-ubyte.gz\n"
     ]
    },
    {
     "name": "stderr",
     "output_type": "stream",
     "text": [
      "100.0%\n"
     ]
    },
    {
     "name": "stdout",
     "output_type": "stream",
     "text": [
      "Extracting /home/adamnguyen/.pytorch/MNIST_data/MNIST/raw/train-images-idx3-ubyte.gz to /home/adamnguyen/.pytorch/MNIST_data/MNIST/raw\n"
     ]
    },
    {
     "name": "stderr",
     "output_type": "stream",
     "text": [
      "100.0%\n",
      "45.7%"
     ]
    },
    {
     "name": "stdout",
     "output_type": "stream",
     "text": [
      "\n",
      "Downloading http://yann.lecun.com/exdb/mnist/train-labels-idx1-ubyte.gz\n",
      "Downloading http://yann.lecun.com/exdb/mnist/train-labels-idx1-ubyte.gz to /home/adamnguyen/.pytorch/MNIST_data/MNIST/raw/train-labels-idx1-ubyte.gz\n",
      "Extracting /home/adamnguyen/.pytorch/MNIST_data/MNIST/raw/train-labels-idx1-ubyte.gz to /home/adamnguyen/.pytorch/MNIST_data/MNIST/raw\n",
      "\n",
      "Downloading http://yann.lecun.com/exdb/mnist/t10k-images-idx3-ubyte.gz\n",
      "Downloading http://yann.lecun.com/exdb/mnist/t10k-images-idx3-ubyte.gz to /home/adamnguyen/.pytorch/MNIST_data/MNIST/raw/t10k-images-idx3-ubyte.gz\n"
     ]
    },
    {
     "name": "stderr",
     "output_type": "stream",
     "text": [
      "100.0%\n",
      "100.0%\n"
     ]
    },
    {
     "name": "stdout",
     "output_type": "stream",
     "text": [
      "Extracting /home/adamnguyen/.pytorch/MNIST_data/MNIST/raw/t10k-images-idx3-ubyte.gz to /home/adamnguyen/.pytorch/MNIST_data/MNIST/raw\n",
      "\n",
      "Downloading http://yann.lecun.com/exdb/mnist/t10k-labels-idx1-ubyte.gz\n",
      "Downloading http://yann.lecun.com/exdb/mnist/t10k-labels-idx1-ubyte.gz to /home/adamnguyen/.pytorch/MNIST_data/MNIST/raw/t10k-labels-idx1-ubyte.gz\n",
      "Extracting /home/adamnguyen/.pytorch/MNIST_data/MNIST/raw/t10k-labels-idx1-ubyte.gz to /home/adamnguyen/.pytorch/MNIST_data/MNIST/raw\n",
      "\n"
     ]
    }
   ],
   "source": [
    "from torchvision import datasets, transforms\n",
    "\n",
    "# Define a transform to normalize the data\n",
    "transform = transforms.Compose([\n",
    "    transforms.ToTensor(),\n",
    "    transforms.Normalize((0.5,), (0.5,))\n",
    "])\n",
    "\n",
    "# Download and load the training data\n",
    "trainset = datasets.MNIST('~/.pytorch/MNIST_data/', download=True, train=True, transform=transform)\n",
    "trainloader = torch.utils.data.DataLoader(trainset, batch_size=64, shuffle=True)\n",
    "\n",
    "# Download and load the test data\n",
    "testset = datasets.MNIST('~/.pytorch/MNIST_data/', download=True, train=False, transform=transform)\n",
    "testloader = torch.utils.data.DataLoader(testset, batch_size=64, shuffle=True)\n"
   ]
  },
  {
   "cell_type": "markdown",
   "id": "b1092560-6a88-4b9c-a710-97aecb32893f",
   "metadata": {},
   "source": [
    "# 3. Create the neural network"
   ]
  },
  {
   "cell_type": "code",
   "execution_count": 5,
   "id": "05efaf96-f3c1-4f9f-83ec-2024f53126a3",
   "metadata": {},
   "outputs": [
    {
     "name": "stdout",
     "output_type": "stream",
     "text": [
      "Net(\n",
      "  (fc1): Linear(in_features=784, out_features=128, bias=True)\n",
      "  (fc2): Linear(in_features=128, out_features=64, bias=True)\n",
      "  (fc3): Linear(in_features=64, out_features=10, bias=True)\n",
      ")\n"
     ]
    }
   ],
   "source": [
    "import torch.nn as nn\n",
    "import torch.nn.functional as F\n",
    "\n",
    "# Define the network architecture\n",
    "class Net(nn.Module):\n",
    "    def __init__(self):\n",
    "        super(Net, self).__init__()\n",
    "        # Define layers\n",
    "        self.fc1 = nn.Linear(28 * 28, 128)  # Flatten the image pixels into a 784 length vector\n",
    "        self.fc2 = nn.Linear(128, 64)\n",
    "        self.fc3 = nn.Linear(64, 10)  # The output is 10 classes for digits 0-9\n",
    "\n",
    "    def forward(self, x):\n",
    "        # Flatten image input\n",
    "        x = x.view(-1, 28 * 28)\n",
    "        # Add hidden layer, with relu activation function\n",
    "        x = F.relu(self.fc1(x))\n",
    "        x = F.relu(self.fc2(x))\n",
    "        # Output layer with softmax activation\n",
    "        x = F.log_softmax(self.fc3(x), dim=1)\n",
    "        return x\n",
    "\n",
    "# Instantiate the network\n",
    "model = Net()\n",
    "print(model)\n"
   ]
  },
  {
   "cell_type": "markdown",
   "id": "bde6a7fe-6454-4113-bbbb-8ccd81cadf22",
   "metadata": {},
   "source": [
    "# 4. Define the loss function and optimizer"
   ]
  },
  {
   "cell_type": "code",
   "execution_count": 7,
   "id": "a8780175-5f0c-4c7e-bb52-7c190934a3da",
   "metadata": {},
   "outputs": [],
   "source": [
    "import torch.optim as optim\n",
    "\n",
    "# Define the loss\n",
    "criterion = nn.CrossEntropyLoss()\n",
    "\n",
    "# Define the optimizer\n",
    "optimizer = optim.SGD(model.parameters(), lr=0.003, momentum=0.9)\n"
   ]
  },
  {
   "cell_type": "markdown",
   "id": "b96895d1-a698-47c3-a9ae-2ef7ea7e4903",
   "metadata": {},
   "source": [
    "# 5. Train the network"
   ]
  },
  {
   "cell_type": "code",
   "execution_count": 8,
   "id": "8b0c3b09-1b53-4741-a3c7-9ae534ed842f",
   "metadata": {},
   "outputs": [
    {
     "name": "stderr",
     "output_type": "stream",
     "text": [
      "/home/adamnguyen/.local/lib/python3.8/site-packages/torch/autograd/__init__.py:251: UserWarning: CUDA initialization: The NVIDIA driver on your system is too old (found version 11040). Please update your GPU driver by downloading and installing a new version from the URL: http://www.nvidia.com/Download/index.aspx Alternatively, go to: https://pytorch.org to install a PyTorch version that has been compiled with your version of the CUDA driver. (Triggered internally at ../c10/cuda/CUDAFunctions.cpp:108.)\n",
      "  Variable._execution_engine.run_backward(  # Calls into the C++ engine to run the backward pass\n"
     ]
    },
    {
     "name": "stdout",
     "output_type": "stream",
     "text": [
      "Training loss: 0.6479759870180443\n",
      "Training loss: 0.28617293154125784\n",
      "Training loss: 0.22006454683347806\n",
      "Training loss: 0.17654243513528725\n",
      "Training loss: 0.14631765474007327\n",
      "Training loss: 0.12496699989914323\n",
      "Training loss: 0.10848396946427855\n",
      "Training loss: 0.09654062955346364\n",
      "Training loss: 0.0869546411966067\n",
      "Training loss: 0.07776524904749986\n",
      "Training loss: 0.07163634028599493\n",
      "Training loss: 0.0656183965256942\n",
      "Training loss: 0.060342582480322676\n",
      "Training loss: 0.054633955359518496\n",
      "Training loss: 0.05149822603009625\n"
     ]
    }
   ],
   "source": [
    "# Number of epochs to train the model\n",
    "epochs = 15\n",
    "\n",
    "for e in range(epochs):\n",
    "    running_loss = 0\n",
    "    for images, labels in trainloader:\n",
    "        # Flatten MNIST images into a 784 long vector\n",
    "        images = images.view(images.shape[0], -1)\n",
    "    \n",
    "        # Training pass\n",
    "        optimizer.zero_grad()\n",
    "        \n",
    "        output = model(images)\n",
    "        loss = criterion(output, labels)\n",
    "        \n",
    "        # This is where the model learns by backpropagating\n",
    "        loss.backward()\n",
    "        \n",
    "        # And optimizes its weights here\n",
    "        optimizer.step()\n",
    "        \n",
    "        running_loss += loss.item()\n",
    "    else:\n",
    "        print(f\"Training loss: {running_loss/len(trainloader)}\")\n"
   ]
  },
  {
   "cell_type": "markdown",
   "id": "42630b3d-53c6-469d-91b6-fbba90ae3e53",
   "metadata": {},
   "source": [
    "# 6. Evaluate the model"
   ]
  },
  {
   "cell_type": "code",
   "execution_count": 9,
   "id": "0f4890bd-0249-405f-ac0b-a8e211e6735d",
   "metadata": {},
   "outputs": [
    {
     "name": "stdout",
     "output_type": "stream",
     "text": [
      "Accuracy of the network on the 10000 test images: 97 %\n"
     ]
    }
   ],
   "source": [
    "correct = 0\n",
    "total = 0\n",
    "with torch.no_grad():\n",
    "    for images, labels in testloader:\n",
    "        images = images.view(images.shape[0], -1)\n",
    "        outputs = model(images)\n",
    "        _, predicted = torch.max(outputs.data, 1)\n",
    "        total += labels.size(0)\n",
    "        correct += (predicted == labels).sum().item()\n",
    "\n",
    "print(f'Accuracy of the network on the 10000 test images: {100 * correct // total} %')\n"
   ]
  },
  {
   "cell_type": "code",
   "execution_count": 11,
   "id": "42f20e51-890c-4580-ba1c-6c87466c6a03",
   "metadata": {},
   "outputs": [
    {
     "data": {
      "image/png": "[encoded data removed]",
      "text/plain": [
       "<Figure size 1200x400 with 5 Axes>"
      ]
     },
     "metadata": {},
     "output_type": "display_data"
    }
   ],
   "source": [
    "import matplotlib.pyplot as plt\n",
    "\n",
    "# Set the model to evaluation mode\n",
    "model.eval()\n",
    "\n",
    "# Get some random testing images\n",
    "dataiter = iter(testloader)\n",
    "images, labels = next(dataiter)  # Use next() instead of dataiter.next()\n",
    "\n",
    "# Get predictions\n",
    "with torch.no_grad():\n",
    "    images_flattened = images.view(images.shape[0], -1)\n",
    "    outputs = model(images_flattened)\n",
    "\n",
    "# Convert outputs to probabilities\n",
    "probabilities = torch.exp(outputs)\n",
    "\n",
    "# Get the predicted class from the probabilities\n",
    "_, predicted = torch.max(probabilities, 1)\n",
    "\n",
    "# Plot the results\n",
    "fig, axes = plt.subplots(1, 5, figsize=(12, 4))\n",
    "for ax, image, pred, label in zip(axes, images, predicted, labels):\n",
    "    ax.imshow(image.numpy().squeeze(), cmap='gray')\n",
    "    ax.title.set_text(f'Pred: {pred.item()}, Label: {label.item()}')\n",
    "    ax.axis('off')\n",
    "plt.show()\n"
   ]
  }
 ],
 "metadata": {
  "kernelspec": {
   "display_name": "Python 3 (ipykernel)",
   "language": "python",
   "name": "python3"
  },
  "language_info": {
   "codemirror_mode": {
    "name": "ipython",
    "version": 3
   },
   "file_extension": ".py",
   "mimetype": "text/x-python",
   "name": "python",
   "nbconvert_exporter": "python",
   "pygments_lexer": "ipython3",
   "version": "3.8.10"
  }
 },
 "nbformat": 4,
 "nbformat_minor": 5
}
