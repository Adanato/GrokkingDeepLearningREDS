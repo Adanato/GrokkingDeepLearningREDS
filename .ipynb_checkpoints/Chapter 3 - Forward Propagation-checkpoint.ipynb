{
 "cells": [
  {
   "cell_type": "markdown",
   "id": "8840a06a",
   "metadata": {},
   "source": [
    "# Step 1: Predict\n",
    "\n",
    "Paradigm: Predict, Compare, and Learn\n",
    "\n",
    "\n",
    "Below is the most basic neural network"
   ]
  },
  {
   "cell_type": "markdown",
   "id": "def2bffb",
   "metadata": {},
   "source": [
    "## 1. An empty Network\n",
    "\n",
    "Input -> Output"
   ]
  },
  {
   "cell_type": "code",
   "execution_count": 1,
   "id": "d5bf3059",
   "metadata": {},
   "outputs": [],
   "source": [
    "weight = 0.1\n",
    "def neural_network(input, weight):\n",
    "    prediction = input * weight\n",
    "    return prediction"
   ]
  },
  {
   "cell_type": "markdown",
   "id": "af95b152",
   "metadata": {},
   "source": [
    "## 2. Inserting one input datapoint\n",
    "\n",
    "Input data like #toes."
   ]
  },
  {
   "cell_type": "code",
   "execution_count": 2,
   "id": "a4edb64d",
   "metadata": {},
   "outputs": [
    {
     "name": "stdout",
     "output_type": "stream",
     "text": [
      "0.8500000000000001\n"
     ]
    }
   ],
   "source": [
    "number_of_toes = [8.5, 9.5, 10, 9]\n",
    "input = number_of_toes[0]\n",
    "pred = neural_network(input,weight)\n",
    "print(pred)"
   ]
  },
  {
   "cell_type": "markdown",
   "id": "c015fd4e",
   "metadata": {},
   "source": [
    "## 3 Multiplying input by weight\n",
    "def neural_network(input, weight):\n",
    "**prediction = input * weight << 8.5 * .1 = 0.85**\n",
    "return prediction\n",
    "\n",
    "Nothing serious so far. Basic algebra multiplication"
   ]
  },
  {
   "cell_type": "markdown",
   "id": "6d8258ff",
   "metadata": {},
   "source": [
    "## 4. Depositing the prediction\n",
    "number_of_toes = [8.5, 9.5, 10, 9]\n",
    "input = number_of_toes[0]\n",
    "**pred = neural_network(input,weight)**"
   ]
  },
  {
   "cell_type": "markdown",
   "id": "e7b32e60",
   "metadata": {},
   "source": [
    "# What is a neural Network?\n",
    "\n",
    "From what I see, I neural network is basically a function or functions that multiply input data by a weight to make a prediction.\n",
    "\n",
    "Because you need to multiply I assume you can only work with numbers to make a neural network work.\n",
    "## What is input data?\n",
    "A recorded number like temperature.\n",
    "\n",
    "## What is a prediction?\n",
    "\n",
    "What the neural network tells you, given the input data.\n",
    "\n",
    "## Is this prediction always right?\n",
    "\n",
    "No it's not always right. The network however can correct itself and learn from the mistakes.\n",
    "\n",
    "## How does a network learn?\n",
    "Trial and error. Similarly to how humans learn to ride a bike. But instead of neurons it changes the weight or \"knob\" to try and predict more accurately.\n"
   ]
  },
  {
   "cell_type": "markdown",
   "id": "7969114a",
   "metadata": {},
   "source": [
    "# Making a prediction with multiple inputs."
   ]
  },
  {
   "cell_type": "markdown",
   "id": "6c192256",
   "metadata": {},
   "source": [
    "## 1. An Empty network with multiple inputs\n",
    "\n",
    " - Seems to be a vector of weights that'll be used with their respective inputs. \n",
    "\n",
    "- Weighted sum is also the dot product.\n",
    "\n",
    "- inputs - information and weights - knowledge\n",
    "\n",
    "\n"
   ]
  },
  {
   "cell_type": "code",
   "execution_count": 3,
   "id": "d5148522",
   "metadata": {},
   "outputs": [],
   "source": [
    "weights = [0.1, 0.2, 0]\n",
    "def neural_network(input, weights):\n",
    "    pred = w_sum(input,weights)\n",
    "    return pred"
   ]
  },
  {
   "cell_type": "markdown",
   "id": "fe1bb714",
   "metadata": {},
   "source": [
    "## 2. Inserting one input datapoint\n",
    "\n",
    "Vectors are introduced as a list of numbers. We've taken linear algebra so we shouldn't be surprised.\n"
   ]
  },
  {
   "cell_type": "code",
   "execution_count": 4,
   "id": "463d0b56",
   "metadata": {},
   "outputs": [
    {
     "ename": "NameError",
     "evalue": "name 'w_sum' is not defined",
     "output_type": "error",
     "traceback": [
      "\u001b[1;31m---------------------------------------------------------------------------\u001b[0m",
      "\u001b[1;31mNameError\u001b[0m                                 Traceback (most recent call last)",
      "\u001b[1;32mc:\\Users\\Adam\\Desktop\\GrokkingREDS\\.ipynb_checkpoints\\Chapter 3 - Forward Propagation-checkpoint.ipynb Cell 13\u001b[0m line \u001b[0;36m<cell line: 5>\u001b[1;34m()\u001b[0m\n\u001b[0;32m      <a href='vscode-notebook-cell:/c%3A/Users/Adam/Desktop/GrokkingREDS/.ipynb_checkpoints/Chapter%203%20-%20Forward%20Propagation-checkpoint.ipynb#X15sZmlsZQ%3D%3D?line=2'>3</a>\u001b[0m nfans \u001b[39m=\u001b[39m [\u001b[39m1.2\u001b[39m, \u001b[39m1.3\u001b[39m, \u001b[39m0.5\u001b[39m, \u001b[39m1.0\u001b[39m]\n\u001b[0;32m      <a href='vscode-notebook-cell:/c%3A/Users/Adam/Desktop/GrokkingREDS/.ipynb_checkpoints/Chapter%203%20-%20Forward%20Propagation-checkpoint.ipynb#X15sZmlsZQ%3D%3D?line=3'>4</a>\u001b[0m \u001b[39minput\u001b[39m \u001b[39m=\u001b[39m [toes[\u001b[39m0\u001b[39m],wlrec[\u001b[39m0\u001b[39m],nfans[\u001b[39m0\u001b[39m]]\n\u001b[1;32m----> <a href='vscode-notebook-cell:/c%3A/Users/Adam/Desktop/GrokkingREDS/.ipynb_checkpoints/Chapter%203%20-%20Forward%20Propagation-checkpoint.ipynb#X15sZmlsZQ%3D%3D?line=4'>5</a>\u001b[0m pred \u001b[39m=\u001b[39m neural_network(\u001b[39minput\u001b[39;49m,weights)\n",
      "\u001b[1;32mc:\\Users\\Adam\\Desktop\\GrokkingREDS\\.ipynb_checkpoints\\Chapter 3 - Forward Propagation-checkpoint.ipynb Cell 13\u001b[0m line \u001b[0;36mneural_network\u001b[1;34m(input, weights)\u001b[0m\n\u001b[0;32m      <a href='vscode-notebook-cell:/c%3A/Users/Adam/Desktop/GrokkingREDS/.ipynb_checkpoints/Chapter%203%20-%20Forward%20Propagation-checkpoint.ipynb#X15sZmlsZQ%3D%3D?line=1'>2</a>\u001b[0m \u001b[39mdef\u001b[39;00m \u001b[39mneural_network\u001b[39m(\u001b[39minput\u001b[39m, weights):\n\u001b[1;32m----> <a href='vscode-notebook-cell:/c%3A/Users/Adam/Desktop/GrokkingREDS/.ipynb_checkpoints/Chapter%203%20-%20Forward%20Propagation-checkpoint.ipynb#X15sZmlsZQ%3D%3D?line=2'>3</a>\u001b[0m     pred \u001b[39m=\u001b[39m w_sum(\u001b[39minput\u001b[39m,weights)\n\u001b[0;32m      <a href='vscode-notebook-cell:/c%3A/Users/Adam/Desktop/GrokkingREDS/.ipynb_checkpoints/Chapter%203%20-%20Forward%20Propagation-checkpoint.ipynb#X15sZmlsZQ%3D%3D?line=3'>4</a>\u001b[0m     \u001b[39mreturn\u001b[39;00m pred\n",
      "\u001b[1;31mNameError\u001b[0m: name 'w_sum' is not defined"
     ]
    }
   ],
   "source": [
    "toes = [8.5, 9.5, 9.9, 9.0]\n",
    "wlrec = [0.65, 0.8, 0.8, 0.9]\n",
    "nfans = [1.2, 1.3, 0.5, 1.0]\n",
    "input = [toes[0],wlrec[0],nfans[0]]\n",
    "pred = neural_network(input,weights)"
   ]
  },
  {
   "cell_type": "markdown",
   "id": "c8315b10",
   "metadata": {},
   "source": [
    "## 3. Performing a weighted sum of inputs\n",
    "\n",
    "weighted sum is not mathematically complicated.\n",
    "\n",
    "Consider the dot product properties to be similar to AND\n",
    "\n",
    "Partial ANDing\n",
    "\n",
    "Logical Not comes from a negative element and positive element multiplying\n",
    "\n",
    "Read or after ands\n",
    "(a[0] AND b[0]) OR (a[1] AND b[1]) ...\n",
    "\n",
    "\n",
    "**Given these intuitions, what does this mean when a neural network makes a prediction?**\n",
    "Roughly speaking, it means the network gives a high score of the inputs based on how\n",
    "similar they are to the weights."
   ]
  },
  {
   "cell_type": "code",
   "execution_count": 5,
   "id": "be8049f1",
   "metadata": {},
   "outputs": [],
   "source": [
    "def w_sum(a,b):\n",
    "    assert(len(a) == len(b))\n",
    "    output = 0\n",
    "    for i in range(len(a)):\n",
    "        output += (a[i] * b[i])\n",
    "    return output\n",
    "\n",
    "def neural_network(input, weights):\n",
    "    pred = w_sum(input,weights)\n",
    "    return pred"
   ]
  },
  {
   "cell_type": "markdown",
   "id": "3c80689a",
   "metadata": {},
   "source": [
    "## 4. Deposit prediction\n",
    "\n",
    "Here are a few more points to note for further reference. You can’t shuffle weights: they have\n",
    "specific positions they need to be in. Furthermore, both the value of the weight and the value of\n",
    "the input determine the overall impact on the final score. Finally, a negative weight will cause\n",
    "some inputs to reduce the final prediction (and vice versa)"
   ]
  },
  {
   "cell_type": "code",
   "execution_count": 6,
   "id": "2e902c5e",
   "metadata": {},
   "outputs": [
    {
     "name": "stdout",
     "output_type": "stream",
     "text": [
      "0.9800000000000001\n"
     ]
    }
   ],
   "source": [
    "toes = [8.5, 9.5, 9.9, 9.0]\n",
    "wlrec = [0.65, 0.8, 0.8, 0.9]\n",
    "nfans = [1.2, 1.3, 0.5, 1.0]\n",
    "input = [toes[0],wlrec[0],nfans[0]]\n",
    "pred = neural_network(input,weights)\n",
    "print(pred)"
   ]
  },
  {
   "cell_type": "markdown",
   "id": "ac9ddac1",
   "metadata": {},
   "source": [
    "Complete runnable code from the previous section"
   ]
  },
  {
   "cell_type": "code",
   "execution_count": 7,
   "id": "465a4c74",
   "metadata": {},
   "outputs": [
    {
     "name": "stdout",
     "output_type": "stream",
     "text": [
      "0.9800000000000001\n"
     ]
    }
   ],
   "source": [
    "def w_sum(a,b):\n",
    "    assert(len(a) == len(b))\n",
    "    output = 0\n",
    "    for i in range(len(a)):\n",
    "        output += (a[i] * b[i])\n",
    "    return output\n",
    "weights = [0.1, 0.2, 0]\n",
    "def neural_network(input, weights):\n",
    "    pred = w_sum(input,weights)\n",
    "    return pred\n",
    "toes = [8.5, 9.5, 9.9, 9.0]\n",
    "wlrec = [0.65, 0.8, 0.8, 0.9]\n",
    "nfans = [1.2, 1.3, 0.5, 1.0]\n",
    "input = [toes[0],wlrec[0],nfans[0]]\n",
    "pred = neural_network(input,weights)\n",
    "\n",
    "# print\n",
    "print(pred)"
   ]
  },
  {
   "cell_type": "code",
   "execution_count": 8,
   "id": "9ea3d377",
   "metadata": {},
   "outputs": [
    {
     "ename": "ModuleNotFoundError",
     "evalue": "No module named 'numpy'",
     "output_type": "error",
     "traceback": [
      "\u001b[1;31m---------------------------------------------------------------------------\u001b[0m",
      "\u001b[1;31mModuleNotFoundError\u001b[0m                       Traceback (most recent call last)",
      "\u001b[1;32mc:\\Users\\Adam\\Desktop\\GrokkingREDS\\.ipynb_checkpoints\\Chapter 3 - Forward Propagation-checkpoint.ipynb Cell 20\u001b[0m line \u001b[0;36m<cell line: 2>\u001b[1;34m()\u001b[0m\n\u001b[0;32m      <a href='vscode-notebook-cell:/c%3A/Users/Adam/Desktop/GrokkingREDS/.ipynb_checkpoints/Chapter%203%20-%20Forward%20Propagation-checkpoint.ipynb#X25sZmlsZQ%3D%3D?line=0'>1</a>\u001b[0m \u001b[39m##NumPy code looks more efficient compared to reinventing the wheel\u001b[39;00m\n\u001b[1;32m----> <a href='vscode-notebook-cell:/c%3A/Users/Adam/Desktop/GrokkingREDS/.ipynb_checkpoints/Chapter%203%20-%20Forward%20Propagation-checkpoint.ipynb#X25sZmlsZQ%3D%3D?line=1'>2</a>\u001b[0m \u001b[39mimport\u001b[39;00m \u001b[39mnumpy\u001b[39;00m \u001b[39mas\u001b[39;00m \u001b[39mnp\u001b[39;00m\n\u001b[0;32m      <a href='vscode-notebook-cell:/c%3A/Users/Adam/Desktop/GrokkingREDS/.ipynb_checkpoints/Chapter%203%20-%20Forward%20Propagation-checkpoint.ipynb#X25sZmlsZQ%3D%3D?line=2'>3</a>\u001b[0m weights \u001b[39m=\u001b[39m np\u001b[39m.\u001b[39marray([\u001b[39m0.1\u001b[39m, \u001b[39m0.2\u001b[39m, \u001b[39m0\u001b[39m])\n\u001b[0;32m      <a href='vscode-notebook-cell:/c%3A/Users/Adam/Desktop/GrokkingREDS/.ipynb_checkpoints/Chapter%203%20-%20Forward%20Propagation-checkpoint.ipynb#X25sZmlsZQ%3D%3D?line=3'>4</a>\u001b[0m \u001b[39mdef\u001b[39;00m \u001b[39mneural_network\u001b[39m(\u001b[39minput\u001b[39m, weights):\n",
      "\u001b[1;31mModuleNotFoundError\u001b[0m: No module named 'numpy'"
     ]
    }
   ],
   "source": [
    "##NumPy code looks more efficient compared to reinventing the wheel\n",
    "import numpy as np\n",
    "weights = np.array([0.1, 0.2, 0])\n",
    "def neural_network(input, weights):\n",
    "    pred = input.dot(weights)\n",
    "    return pred\n",
    "\n",
    "toes = np.array([8.5, 9.5, 9.9, 9.0])\n",
    "wlrec = np.array([0.65, 0.8, 0.8, 0.9])\n",
    "nfans = np.array([1.2, 1.3, 0.5, 1.0])\n",
    "\n",
    "input = np.array([toes[0],wlrec[0],nfans[0]])\n",
    "pred = neural_network(input,weights)\n",
    "\n",
    "print(pred)"
   ]
  },
  {
   "cell_type": "markdown",
   "id": "84971df9",
   "metadata": {},
   "source": [
    "Skipped some sections because they were just showcasing some more linear algebra like matrixes\n"
   ]
  },
  {
   "cell_type": "markdown",
   "id": "aac0243b",
   "metadata": {},
   "source": [
    "# Predicting on predictions\n",
    "\n",
    "3 types of layers:\n",
    "Inputs \n",
    "Hiddens\n",
    "Predictions\n",
    "\n",
    "Neural networks can be stacked. Where the the matrix multiplication of one input layer and hidden layer can be used for the next hidden layer.\n",
    "\n"
   ]
  },
  {
   "cell_type": "markdown",
   "id": "b3848b45",
   "metadata": {},
   "source": [
    "# 1. An empty network with mutliple inputs and outputs\n",
    "\n",
    "We can see the setup is very similar to matrix multiplication"
   ]
  },
  {
   "cell_type": "code",
   "execution_count": null,
   "id": "20f079c6",
   "metadata": {},
   "outputs": [],
   "source": [
    "# toes % win # fans\n",
    "ih_wgt = [ [0.1, 0.2, -0.1], # hid[0]\n",
    "[-0.1,0.1, 0.9], # hid[1]\n",
    "[0.1, 0.4, 0.1] ] # hid[2]\n",
    "\n",
    "#hid[0] hid[1] hid[2]\n",
    "hp_wgt = [ [0.3, 1.1, -0.3], # hurt?\n",
    "[0.1, 0.2, 0.0], # win?\n",
    "[0.0, 1.3, 0.1] ] # sad?\n",
    "weights = [ih_wgt, hp_wgt]\n",
    "\n",
    "def neural_network(input, weights):\n",
    "    hid = vect_mat_mul(input,weights[0])\n",
    "    pred = vect_mat_mul(hid,weights[1])\n",
    "    return pred"
   ]
  },
  {
   "cell_type": "markdown",
   "id": "7d3d0cd4",
   "metadata": {},
   "source": [
    "# 2. Predicting the hidden layer\n",
    "\n",
    "We can see the line \n",
    "hid = vect_mat_mul(input,weights[0])\n",
    "\n",
    "Seems to be the first computation.\n",
    "\n",
    "After that we use hid for the last prediction layer"
   ]
  },
  {
   "cell_type": "code",
   "execution_count": null,
   "id": "38f76918",
   "metadata": {},
   "outputs": [],
   "source": [
    "toes = [8.5, 9.5, 9.9, 9.0]\n",
    "wlrec = [0.65,0.8, 0.8, 0.9]\n",
    "nfans = [1.2, 1.3, 0.5, 1.0]\n",
    "input = [toes[0],wlrec[0],nfans[0]]\n",
    "pred = neural_network(input,weights)\n",
    "\n",
    "def neural_network(input, weights):\n",
    "hid = vect_mat_mul(input,weights[0])\n",
    "pred = vect_mat_mul(hid,weights[1])\n",
    "return pred"
   ]
  },
  {
   "cell_type": "markdown",
   "id": "e2b409c4",
   "metadata": {},
   "source": [
    "# 3. Predicting the output layer (and depositing the prediction)\n"
   ]
  },
  {
   "cell_type": "code",
   "execution_count": null,
   "id": "570d187d",
   "metadata": {},
   "outputs": [],
   "source": [
    "def neural_network(input, weights):\n",
    "    hid = vect_mat_mul(input,weights[0])\n",
    "    pred = vect_mat_mul(hid,weights[1])\n",
    "    return pred\n",
    "\n",
    "toes = [8.5, 9.5, 9.9, 9.0]\n",
    "wlrec = [0.65,0.8, 0.8, 0.9]\n",
    "nfans = [1.2, 1.3, 0.5, 1.0]\n",
    "input = [toes[0],wlrec[0],nfans[0]]\n",
    "\n",
    "pred = neural_network(input,weights)\n",
    "print(pred)"
   ]
  },
  {
   "cell_type": "code",
   "execution_count": null,
   "id": "b930bac5",
   "metadata": {},
   "outputs": [],
   "source": [
    "#NumPy version\n",
    "import numpy as np\n",
    "# toes % win # fans\n",
    "ih_wgt = np.array([\n",
    "[0.1, 0.2, -0.1], # hid[0]\n",
    "[-0.1,0.1, 0.9], # hid[1]\n",
    "[0.1, 0.4, 0.1]]).T # hid[2]\n",
    "\n",
    "# hid[0] hid[1] hid[2]\n",
    "hp_wgt = np.array([\n",
    "[0.3, 1.1, -0.3], # hurt?\n",
    "[0.1, 0.2, 0.0], # win?\n",
    "[0.0, 1.3, 0.1] ]).T # sad?\n",
    "\n",
    "\n",
    "weights = [ih_wgt, hp_wgt]\n",
    "def neural_network(input, weights):\n",
    "    hid = input.dot(weights[0])\n",
    "    pred = hid.dot(weights[1])\n",
    "    return pred\n",
    "\n",
    "toes = np.array([8.5, 9.5, 9.9, 9.0])\n",
    "wlrec = np.array([0.65,0.8, 0.8, 0.9])\n",
    "nfans = np.array([1.2, 1.3, 0.5, 1.0])\n",
    "\n",
    "input = np.array([toes[0],wlrec[0],nfans[0]])\n",
    "\n",
    "pred = neural_network(input,weights)\n",
    "print(pred)"
   ]
  },
  {
   "cell_type": "markdown",
   "id": "45eb0730",
   "metadata": {},
   "source": [
    "# A quick primer on numpy below\n",
    "\n",
    "These numpy basics touch on matrices and vectors:\n",
    "- If you create a matrix with only one row, you’re creating a vector.\n",
    "- And, as in mathematics in general, you create a matrix by listing (rows,columns).\n",
    "- I say that only so you can remember the order: rows come first, columns come second. \n",
    "\n",
    "Code examples below"
   ]
  },
  {
   "cell_type": "code",
   "execution_count": null,
   "id": "f53ad64b",
   "metadata": {},
   "outputs": [],
   "source": [
    "import numpy as np\n",
    "a = np.array([0,1,2,3])\n",
    "b = np.array([4,5,6,7])# vector\n",
    "c = np.array([[0,1,2,3], # matrix\n",
    "[4,5,6,7]]) \n",
    "\n",
    "d = np.zeros((2,4)) # matrix of zeros\n",
    "e = np.random.rand(2,5) #matrix of number between 0 and 1\n",
    "print(a)\n",
    "print(b)\n",
    "print(c)\n",
    "print(d)\n",
    "print(e)\n",
    "\n",
    "\n",
    "\n",
    "print(a * 0.1) # scalar multiplication\n",
    "print(c * 0.2) # scalar multiplication\n",
    "print(a * b) # vector elementwise operation\n",
    "print(a * b * 0.2)  # vector elementwise operation & scalar multiplication after\n",
    "\n",
    "print(a * c) #Performs elementwise multiplication on\n",
    "#every row of matrix c, because c has the\n",
    "#same number of columns as a\n",
    "\n",
    "print(a * e) # Because a and e don’t\n",
    "#have the same number\n",
    "#of columns, this throws\n",
    "#“Value Error: operands\n",
    "#could not be broadcast\n",
    "#together with...”"
   ]
  },
  {
   "cell_type": "markdown",
   "id": "247e2559",
   "metadata": {},
   "source": [
    "# Summary\n",
    "To predict, neural networks perform repeated weighted sums\n",
    "of the input.\n",
    "\n",
    "Everything in chapter 3 was the basis for forward propagation.\n",
    "Forward propagation - propagating activations forward through the network.\n",
    "\n",
    "Activations - All the numbers that are not the weights."
   ]
  }
 ],
 "metadata": {
  "kernelspec": {
   "display_name": "Python 3",
   "language": "python",
   "name": "python3"
  },
  "language_info": {
   "codemirror_mode": {
    "name": "ipython",
    "version": 3
   },
   "file_extension": ".py",
   "mimetype": "text/x-python",
   "name": "python",
   "nbconvert_exporter": "python",
   "pygments_lexer": "ipython3",
   "version": "3.10.5"
  }
 },
 "nbformat": 4,
 "nbformat_minor": 5
}
